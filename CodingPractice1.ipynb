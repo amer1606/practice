{
 "cells": [
  {
   "cell_type": "code",
   "execution_count": 24,
   "metadata": {
    "colab": {
     "base_uri": "https://localhost:8080/"
    },
    "executionInfo": {
     "elapsed": 4225,
     "status": "ok",
     "timestamp": 1695128156144,
     "user": {
      "displayName": "Al Cederway",
      "userId": "00174690261663520307"
     },
     "user_tz": -120
    },
    "id": "4UoqNxlhaO5q",
    "outputId": "1716b1ef-bd1f-4cab-9841-5c4a046db609"
   },
   "outputs": [
    {
     "name": "stdout",
     "output_type": "stream",
     "text": [
      "Please enter a 3 digit number   193\n",
      "13\n"
     ]
    }
   ],
   "source": [
    "### MULTIPLIER\n",
    "x=input(\"Please enter a 3 digit number   \")\n",
    "y=int(x[0])+int(x[1])+int(x[2])\n",
    "print(y)\n"
   ]
  },
  {
   "cell_type": "code",
   "execution_count": 34,
   "metadata": {
    "colab": {
     "base_uri": "https://localhost:8080/"
    },
    "executionInfo": {
     "elapsed": 5558,
     "status": "ok",
     "timestamp": 1695128541155,
     "user": {
      "displayName": "Al Cederway",
      "userId": "00174690261663520307"
     },
     "user_tz": -120
    },
    "id": "bmFp3NUha-eA",
    "outputId": "cffe6831-aa39-4d3f-8da9-f4991e3eea6d"
   },
   "outputs": [
    {
     "name": "stdout",
     "output_type": "stream",
     "text": [
      "Please enter your weight in kg   95\n",
      "please enter your heigth in cm   185\n",
      "27.0\n",
      "you are overweight\n"
     ]
    }
   ],
   "source": [
    "###  BMI calculation\n",
    "weight = input(\"Please enter your weight in kg   \")\n",
    "heigth = input(\"please enter your heigth in cm   \")\n",
    "bmi = int(int(weight)*10000/int(heigth)**2)\n",
    "print(int(bmi*10)/10)\n",
    "if bmi<20:\n",
    "  print(\"You are skinny\")\n",
    "elif bmi>26:\n",
    "  print(\"you are overweight\")\n",
    "else :\n",
    "  print(\"you re fine\")"
   ]
  },
  {
   "cell_type": "code",
   "execution_count": 43,
   "metadata": {
    "colab": {
     "base_uri": "https://localhost:8080/"
    },
    "executionInfo": {
     "elapsed": 13027,
     "status": "ok",
     "timestamp": 1695129126855,
     "user": {
      "displayName": "Al Cederway",
      "userId": "00174690261663520307"
     },
     "user_tz": -120
    },
    "id": "udzNQNUzbxlA",
    "outputId": "4083b825-ba46-4502-c446-ad95a575539e"
   },
   "outputs": [
    {
     "name": "stdout",
     "output_type": "stream",
     "text": [
      "How much is your bill? 200.50\n",
      "What tip woud you like to give? 10, 12 or 15? 10\n",
      "How many people are paying the bill?  2\n",
      "110.27\n"
     ]
    }
   ],
   "source": [
    "# TASK : TIP CALCULATOR\n",
    "bill = input(\"How much is your bill? \")\n",
    "tip = input(\"What tip woud you like to give? 10, 12 or 15? \")\n",
    "persons = input(\"How many people are paying the bill?  \")\n",
    "pay = int(100*float(bill)*(1+int(tip)/100)/int(persons))/100\n",
    "print(pay)"
   ]
  },
  {
   "cell_type": "code",
   "execution_count": null,
   "metadata": {
    "id": "CzHicBZZaWG8"
   },
   "outputs": [],
   "source": []
  }
 ],
 "metadata": {
  "colab": {
   "authorship_tag": "ABX9TyPrHfAk1+DHDaQXRltmPrpw",
   "provenance": []
  },
  "kernelspec": {
   "display_name": "Python 3 (ipykernel)",
   "language": "python",
   "name": "python3"
  },
  "language_info": {
   "codemirror_mode": {
    "name": "ipython",
    "version": 3
   },
   "file_extension": ".py",
   "mimetype": "text/x-python",
   "name": "python",
   "nbconvert_exporter": "python",
   "pygments_lexer": "ipython3",
   "version": "3.11.4"
  }
 },
 "nbformat": 4,
 "nbformat_minor": 1
}
